{
  "nbformat": 4,
  "nbformat_minor": 0,
  "metadata": {
    "colab": {
      "name": "stacked_models.ipynb",
      "provenance": [],
      "collapsed_sections": [],
      "authorship_tag": "ABX9TyM2aFNKYdgsv6theTKjEjHB",
      "include_colab_link": true
    },
    "kernelspec": {
      "name": "python3",
      "display_name": "Python 3"
    },
    "language_info": {
      "name": "python"
    }
  },
  "cells": [
    {
      "cell_type": "markdown",
      "metadata": {
        "id": "view-in-github",
        "colab_type": "text"
      },
      "source": [
        "<a href=\"https://colab.research.google.com/github/shokru/coqueret.github.io/blob/master/stacked_models.ipynb\" target=\"_parent\"><img src=\"https://colab.research.google.com/assets/colab-badge.svg\" alt=\"Open In Colab\"/></a>"
      ]
    },
    {
      "cell_type": "markdown",
      "source": [
        "# Stacked models: theoretical illustration\n",
        "\n",
        "This notebook shows the impact of intermediate supervision on the outcome of a predictive pipeline. It illustrates a paper by Guillaume Coqueret, Cyrille Henry-Bonniot and Thomas Raffinot.\n",
        "\n",
        "First, we start by loading the required packages."
      ],
      "metadata": {
        "id": "02VvjGxuhynJ"
      }
    },
    {
      "cell_type": "code",
      "source": [
        "from sklearn import datasets\n",
        "import matplotlib.pyplot as plt\n",
        "import copy\n",
        "import numpy as np\n",
        "import sklearn\n",
        "import pandas as pd\n",
        "import lightgbm as lgb\n",
        "import warnings"
      ],
      "metadata": {
        "id": "xUfDpAH-h-Es"
      },
      "execution_count": 18,
      "outputs": []
    },
    {
      "cell_type": "markdown",
      "source": [
        "Next, we define the learning function. It is based on **lightGBM**: https://lightgbm.readthedocs.io/en/latest/.  \n",
        "Because we do not want to overfit, we stick to the default training parameters & resort to cross-validation.   \n",
        "The loss function is the **root mean squared error**. "
      ],
      "metadata": {
        "id": "Sob3U-YgiPhw"
      }
    },
    {
      "cell_type": "code",
      "execution_count": 19,
      "metadata": {
        "id": "JvFbOZRahdY6"
      },
      "outputs": [],
      "source": [
        "def run_lightGBM(X,\n",
        "                 y,\n",
        "                 train,\n",
        "                 test,\n",
        "                 FIXED_PARAMS,\n",
        "                 SEARCH_PARAMS,\n",
        "                 weights):\n",
        "    \"\"\"\n",
        "    compute lightGBM.\n",
        "    Returns:\n",
        "        - the predictions\n",
        "        - the model\n",
        "        - the eval metric\n",
        "\n",
        "    Parameters\n",
        "    ----------\n",
        "    X: pd.dataframe = table of regressors\n",
        "    y: pd.Series = target\n",
        "    train: List = indices of the training sample\n",
        "    test: List = indices of the test sample\n",
        "\n",
        "    FIXED_PARAMS: dict\n",
        "    dictionary of lightGBM parameters (not optimized)\n",
        "\n",
        "    SEARCH_PARAMS: dict\n",
        "    dictionary of lightGBM parameters (optimized)\n",
        "\n",
        "    weights: pd.Series\n",
        "    weights of each observations\n",
        "    ----------\n",
        "    \"\"\"\n",
        "    warnings.filterwarnings(\"ignore\")\n",
        "    Xtrain = X[train, :]\n",
        "    Xtest = X[test, :]\n",
        "\n",
        "    if weights.size > 0:\n",
        "        train_data = lgb.Dataset(Xtrain, label=y[train], weight=weights[train], silent=True)\n",
        "        valid_data = lgb.Dataset(Xtest, label=y[test],\n",
        "                                 reference=train_data, weight=weights[test], silent=True)\n",
        "    else:\n",
        "        train_data = lgb.Dataset(Xtrain, label=y[train], silent=True)\n",
        "        valid_data = lgb.Dataset(Xtest, label=y[test], reference=train_data,\n",
        "                                 silent=True)\n",
        "    if len(SEARCH_PARAMS) > 0:\n",
        "        params = {**FIXED_PARAMS,\n",
        "                  **SEARCH_PARAMS,\n",
        "                  'verbose': -1}\n",
        "    else:\n",
        "        params = {**FIXED_PARAMS,\n",
        "                  'verbose': -1}\n",
        "    model = lgb.train(params,\n",
        "                      train_data,\n",
        "                      verbose_eval=False,\n",
        "                      valid_sets=[valid_data],\n",
        "                      valid_names=['validation'])\n",
        "    preds = model.predict(Xtest)\n",
        "    scores = model.best_score['validation'][FIXED_PARAMS['metric']]\n",
        "    return preds, model, scores"
      ]
    },
    {
      "cell_type": "markdown",
      "source": [
        "The main function accepts 2 methods: the direct one and the indirect one:\n",
        "- the **direct** method takes the predictors and uses them directly in a boosted tree algorithm;  \n",
        "- the **indirect** method first processes the predictors via a set of intermediate labels: this yields a new training set and the final model uses the new variables as predictors.\n",
        "\n",
        "To illustrate the relevance of this approach, we will use two types of indirect approaches: one that improve accuracy and one that deteriorates it. "
      ],
      "metadata": {
        "id": "QTvIxZoLj7Hq"
      }
    },
    {
      "cell_type": "code",
      "source": [
        "def friedman(y,\n",
        "             X,\n",
        "             fixedparam_lgbm,\n",
        "             d_param,\n",
        "             n_split=10,\n",
        "             method=\"direct\"):\n",
        "    \"\"\"\n",
        "    run cross validations of lightGBM.\n",
        "        - If method is \"indirect-*\", compute run_lightGBM for all targets in y.\n",
        "          y[y] if supposed to be the final target. All others are intermediate targets\n",
        "        - If method is \"direct\", run run_lightGBM only for y[y]\n",
        "    Returns:\n",
        "        - lRes: dict with predictions/model/metric for each targets in y\n",
        "        - metric: eval metric for the final target\n",
        "\n",
        "    Parameters\n",
        "    ----------\n",
        "    y: dict = dictionary of targets\n",
        "    X: pd.dataframe = table of regressors\n",
        "\n",
        "    fixedparam_lgbm: dict\n",
        "    dictionary of lightGBM parameters (not optimized)\n",
        "\n",
        "    d_param: dict\n",
        "    dictionary of lightGBM parameters (optimized)\n",
        "\n",
        "    n_split: integer\n",
        "    number of sample splits for the cross validation\n",
        "\n",
        "    method: string\n",
        "        - direct: y[y] is learnt directly\n",
        "        - indirect-1: y[y] is learnt based on predictions of intermediate targets\n",
        "        - indirect-2: y[y] is learnt based on predictions of intermediate targets and original regressors\n",
        "    ----------\n",
        "    \"\"\"\n",
        "    lRes = dict()\n",
        "    if method == \"indirect\":\n",
        "        y_firstLayer = copy.deepcopy(y)\n",
        "        del y_firstLayer[\"y\"]\n",
        "        kf = sklearn.model_selection.KFold(n_splits=n_split)\n",
        "        # First layer:\n",
        "        for ML in y_firstLayer:\n",
        "            res = pd.DataFrame((run_lightGBM(X,\n",
        "                                             y[ML],\n",
        "                                             train,\n",
        "                                             test,\n",
        "                                             fixedparam_lgbm,\n",
        "                                             d_param[ML],\n",
        "                                             np.array([])) for train, test in kf.split(X))\n",
        "                               )   # returns [scores, preds, model]\n",
        "            lRes[ML] = np.concatenate(res[0].to_list(), axis=0)\n",
        "    # Second layer:\n",
        "    ML = \"y\"\n",
        "    # Construction of predictors\n",
        "    if method == \"indirect\":\n",
        "        Xintermediate = np.transpose(np.array(list(lRes.values())))  # aggregation of CV predictions\n",
        "    elif method == \"direct\":\n",
        "        Xintermediate = X\n",
        "    kf = sklearn.model_selection.KFold(n_splits=n_split)\n",
        "    res = pd.DataFrame((run_lightGBM(Xintermediate,\n",
        "                                     y[ML],\n",
        "                                     train,\n",
        "                                     test,\n",
        "                                     fixedparam_lgbm,\n",
        "                                     d_param[ML],\n",
        "                                     np.array([])) for train, test in kf.split(X))\n",
        "                       )  # returns [scores, preds, model]\n",
        "    lRes[ML] = np.concatenate(res[0].to_list(), axis=0)\n",
        "    metric = res[2].mean()\n",
        "    return lRes[ML], metric"
      ],
      "metadata": {
        "id": "-0hOV96dkCx4"
      },
      "execution_count": 20,
      "outputs": []
    },
    {
      "cell_type": "markdown",
      "source": [
        "We are then ready to proceed.  \n",
        "The data generating process is given by the **Friedman function**, which depends on 6 variables:\n",
        "$$f(x_0,\\dots,x_5)=10\\sin(\\pi x_0x_1)+(x_2-0.5)^2+10x_3+5x_4.$$\n",
        "Note that the last variable is included but does not drive the function: it is useless for prediction purposes. The label is then the sum of the Friedman function plus some white noise:\n",
        "$$y = f(x_0,\\dots,x_5)+ \\sigma \\epsilon,$$\n",
        "where $ϵ$ is a standrard Gaussian ($N(0,1)$) variable.  \n",
        "Below, we test different values for **learning sample size** and **noise**.  "
      ],
      "metadata": {
        "id": "IIWCE_V1nLwV"
      }
    },
    {
      "cell_type": "code",
      "source": [
        "vN = [100, 1000, 10000, 100000]  # size of the learning sample\n",
        "vNoise = [0, 1]                  # noise to add to the Friedman function\n",
        "n_features = 6                   # number of regressors (the last one is useless to predict y)\n",
        "fixedparam_lgbm = {'objective': 'rmse',\n",
        "                   'metric': 'rmse'}\n",
        "D_metric = np.zeros([len(vN), len(vNoise)])\n",
        "I1_metric = np.zeros([len(vN), len(vNoise)])\n",
        "I2_metric = np.zeros([len(vN), len(vNoise)])\n",
        "for i in range(len(vN)):\n",
        "    for j in range(len(vNoise)):\n",
        "        N = vN[i]\n",
        "        noise = vNoise[j]\n",
        "        np.random.seed(seed=0)\n",
        "        X = np.random.uniform(size=(N, n_features))\n",
        "        ya = 10 * np.sin(np.pi * X[:, 0] * X[:, 1]) + 20 * (X[:, 2] - 0.5) ** 2 + 10 * X[:, 3] + 5 * X[:, 4]\n",
        "        y = ya + noise * np.random.normal(N)\n",
        "        Y = {\"y\": y}\n",
        "\n",
        "        # Prediction of the Friedman function directly\n",
        "        _, D_metric[i, j] = friedman(Y,\n",
        "                                     X,\n",
        "                                     fixedparam_lgbm,\n",
        "                                     dict(zip(Y.keys(), [''] * len(Y))),\n",
        "                                     n_split=5,\n",
        "                                     method=\"direct\")\n",
        "        \n",
        "        # Prediction of the Friedman function with USEFUL intermediate targets\n",
        "        y1 = 10 * np.sin(np.pi * X[:, 0] * X[:, 1]) + noise / np.sqrt(3) * np.random.normal(N)\n",
        "        y2 = 20 * (X[:, 2] - 0.5) ** 2 + noise / np.sqrt(3) * np.random.normal(N)\n",
        "        y3 = 10 * X[:, 3] + 5 * X[:, 4] + noise / np.sqrt(3) * np.random.normal(N)   \n",
        "        Y = {\"y\": y, \"y1\": y1, \"y2\": y2, \"y3\": y3}  # enter the target y and the intermediate targets you wish to use        \n",
        "        _, I1_metric[i, j] = friedman(Y,\n",
        "                                     X,\n",
        "                                     fixedparam_lgbm,\n",
        "                                     dict(zip(Y.keys(), [''] * len(Y))),\n",
        "                                     n_split=5,\n",
        "                                     method=\"indirect\")\n",
        "        \n",
        "        #  prediction of the Friedman function with USELESS intermediate targets\n",
        "        y1 = 10 *  X[:, 0] * X[:, 1] + noise / np.sqrt(3) * np.random.normal(N)\n",
        "        y2 = 20 * (X[:, 2]) ** 2 + noise / np.sqrt(3) * np.random.normal(N)\n",
        "        y3 = X[:, 3]  * X[:, 4] + noise / np.sqrt(3) * np.random.normal(N)   \n",
        "        Y = {\"y\": y, \"y1\": y1, \"y2\": y2, \"y3\": y3}  # enter the target y and the intermediate targets you wish to use          \n",
        "        _, I2_metric[i, j] = friedman(Y,\n",
        "                                     X,\n",
        "                                     fixedparam_lgbm,\n",
        "                                     dict(zip(Y.keys(), [''] * len(Y))),\n",
        "                                     n_split=5,\n",
        "                                     method=\"indirect\")\n",
        "        # indirect-1 only uses the predictions from the intermediate targets to predict the final target\n",
        "        # indirect-2 includes the original regressors."
      ],
      "metadata": {
        "id": "_7A20AWsnQfX"
      },
      "execution_count": 21,
      "outputs": []
    },
    {
      "cell_type": "markdown",
      "source": [
        "We can then plot the results. "
      ],
      "metadata": {
        "id": "SsB8juLMsdU2"
      }
    },
    {
      "cell_type": "code",
      "source": [
        "if len(vNoise) > 1:\n",
        "    fig, ax = plt.subplots(1, len(vNoise))\n",
        "    plt.tight_layout()\n",
        "    for i in range(len(vNoise)):\n",
        "        ax[i].plot(vN, D_metric[:, i])\n",
        "        ax[i].plot(vN, I1_metric[:, i])\n",
        "        ax[i].plot(vN, I2_metric[:, i])\n",
        "        ax[i].set_title(\"Noise = \" + str(vNoise[i]))\n",
        "        ax[i].legend([\"Direct\", \"Indirect useful\", \"Indirect useless\"])\n",
        "        ax[i].set_xscale(\"log\")\n",
        "        ax[i].set_xlabel(\"Sample size\")\n",
        "        ax[i].set_ylabel(\"Root mean squared error\")\n",
        "    fig.suptitle(\"Comparison on the Friedman dataset\", fontsize=\"x-large\")\n",
        "    fig.subplots_adjust(top=0.85)\n",
        "else:\n",
        "    fig, ax = plt.subplots()\n",
        "    plt.tight_layout()\n",
        "    ax.plot(vN, D_metric[:, 0])\n",
        "    ax.plot(vN, I1_metric[:, 0], '--')\n",
        "    ax.plot(vN, I2_metric[:, 0], '-+')\n",
        "    ax.set_title(\"Noise = \" + str(vNoise[0]))\n",
        "    ax.legend([\"Direct\", \"Indirect useful\", \"Indirect useless\"])\n",
        "    ax.set_xscale(\"log\")\n",
        "    ax.set_xlabel(\"Sample size\")\n",
        "    ax.set_ylabel(\"Root mean squared error\")\n",
        "    fig.suptitle(\"Comparison on the Friedman dataset\", fontsize=\"x-large\")\n",
        "    fig.subplots_adjust(top=0.85)\n"
      ],
      "metadata": {
        "colab": {
          "base_uri": "https://localhost:8080/",
          "height": 320
        },
        "id": "fgXrv9mOsqwm",
        "outputId": "2bd82ad2-51da-4b98-94e1-8200066e1b35"
      },
      "execution_count": 22,
      "outputs": [
        {
          "output_type": "display_data",
          "data": {
            "image/png": "[encoded data removed]",
            "text/plain": [
              "<Figure size 432x288 with 2 Axes>"
            ]
          },
          "metadata": {
            "needs_background": "light"
          }
        }
      ]
    }
  ]
}